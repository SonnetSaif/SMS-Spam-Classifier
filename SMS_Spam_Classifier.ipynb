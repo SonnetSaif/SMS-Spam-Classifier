{
  "nbformat": 4,
  "nbformat_minor": 0,
  "metadata": {
    "colab": {
      "name": "SMS_Spam_Classifier.ipynb",
      "provenance": []
    },
    "kernelspec": {
      "name": "python3",
      "display_name": "Python 3"
    },
    "language_info": {
      "name": "python"
    }
  },
  "cells": [
    {
      "cell_type": "code",
      "execution_count": 7,
      "metadata": {
        "colab": {
          "base_uri": "https://localhost:8080/"
        },
        "id": "5oV-Gyt9bu8a",
        "outputId": "9412004e-65e7-47d6-d6f5-6a48d8bc07f0"
      },
      "outputs": [
        {
          "output_type": "stream",
          "name": "stdout",
          "text": [
            "[nltk_data] Downloading package punkt to /root/nltk_data...\n",
            "[nltk_data]   Package punkt is already up-to-date!\n",
            "[nltk_data] Downloading package stopwords to /root/nltk_data...\n",
            "[nltk_data]   Package stopwords is already up-to-date!\n"
          ]
        }
      ],
      "source": [
        "import pandas as pd\n",
        "import re\n",
        "import nltk\n",
        "from nltk.corpus import stopwords\n",
        "from nltk.stem.porter import PorterStemmer\n",
        "from nltk.stem import WordNetLemmatizer\n",
        "nltk.download('punkt')\n",
        "nltk.download('stopwords') \n",
        "from sklearn.model_selection import train_test_split\n",
        "from sklearn.feature_extraction.text import CountVectorizer, TfidfVectorizer\n",
        "from sklearn.naive_bayes import MultinomialNB\n",
        "from sklearn.metrics import confusion_matrix, accuracy_score"
      ]
    },
    {
      "cell_type": "code",
      "source": [
        "sms = pd.read_csv(\"/content/SMSSpamCollection\", sep=\"\\t\", names=[\"label\", \"messages\"])"
      ],
      "metadata": {
        "id": "3duG8smRcEXv"
      },
      "execution_count": 8,
      "outputs": []
    },
    {
      "cell_type": "code",
      "source": [
        "ps = PorterStemmer()\n",
        "# wl = WordNetLemmatizer()\n",
        "corpus = []\n",
        "\n",
        "for i in range(0, len(sms)):\n",
        "    review = re.sub('[^a-zA-Z]', ' ', sms['messages'][i])\n",
        "    review = review.lower()\n",
        "    review = review.split()\n",
        "    review = [ps.stem(word) for word in review if not word in set(stopwords.words('english'))]\n",
        "    review = ' '.join(review)\n",
        "    corpus.append(review)\n",
        "    \n",
        "# for i in range(0, len(sms)):\n",
        "#     review = re.sub('[^a-zA-Z]', ' ', sms['messages'][i])\n",
        "#     review = review.lower()\n",
        "#     review = review.split()\n",
        "#     review = [wl.lemmatize(word) for word in review if not word in set(stopwords.words('english'))]\n",
        "#     review = ' '.join(review)\n",
        "#     corpus.append(review)"
      ],
      "metadata": {
        "id": "96_etJ2g0atR"
      },
      "execution_count": 9,
      "outputs": []
    },
    {
      "cell_type": "code",
      "source": [
        "cv = CountVectorizer(max_features=5000)\n",
        "X = cv.fit_transform(corpus).toarray()\n",
        "# tv = TfidfVectorizer(max_features=5000)\n",
        "# X = tv.fit_transform(corpus).toarray()\n",
        "\n",
        "y = pd.get_dummies(sms['label'])\n",
        "y = y.iloc[:,1].values\n",
        "\n",
        "X_train, X_test, y_train, y_test = train_test_split(X, y, test_size = 0.30, random_state=0)"
      ],
      "metadata": {
        "id": "Psgqxkgh0Fki"
      },
      "execution_count": 10,
      "outputs": []
    },
    {
      "cell_type": "code",
      "source": [
        "model = MultinomialNB()\n",
        "model.fit(X_train, y_train)"
      ],
      "metadata": {
        "colab": {
          "base_uri": "https://localhost:8080/"
        },
        "id": "tTfn2uMX0dlu",
        "outputId": "71a6743f-97d9-48ff-8840-4d7b99334ac6"
      },
      "execution_count": 11,
      "outputs": [
        {
          "output_type": "execute_result",
          "data": {
            "text/plain": [
              "MultinomialNB()"
            ]
          },
          "metadata": {},
          "execution_count": 11
        }
      ]
    },
    {
      "cell_type": "code",
      "source": [
        "y_pred = model.predict(X_test)\n",
        "cm = confusion_matrix(y_test, y_pred)\n",
        "acc = accuracy_score(y_test, y_pred)\n",
        "\n",
        "print(cm)\n",
        "print(acc)"
      ],
      "metadata": {
        "id": "HjEQuBSy0iWl"
      },
      "execution_count": 12,
      "outputs": []
    }
  ]
}